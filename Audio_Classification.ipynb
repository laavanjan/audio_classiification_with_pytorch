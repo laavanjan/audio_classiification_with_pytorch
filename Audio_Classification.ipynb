{
  "nbformat": 4,
  "nbformat_minor": 0,
  "metadata": {
    "colab": {
      "provenance": [],
      "gpuType": "T4"
    },
    "kernelspec": {
      "name": "python3",
      "display_name": "Python 3"
    },
    "language_info": {
      "name": "python"
    },
    "accelerator": "GPU"
  },
  "cells": [
    {
      "cell_type": "code",
      "execution_count": 1,
      "metadata": {
        "colab": {
          "base_uri": "https://localhost:8080/"
        },
        "id": "chI7jiZ2BTKh",
        "outputId": "8b31a01e-6309-4745-aea3-6bc00729e26f"
      },
      "outputs": [
        {
          "output_type": "stream",
          "name": "stdout",
          "text": [
            "Please provide your Kaggle credentials to download this dataset. Learn more: http://bit.ly/kaggle-creds\n",
            "Your Kaggle username: laavanjan\n",
            "Your Kaggle Key: ··········\n",
            "Dataset URL: https://www.kaggle.com/datasets/mohammedalrajeh/quran-recitations-for-audio-classification\n",
            "Downloading quran-recitations-for-audio-classification.zip to ./quran-recitations-for-audio-classification\n"
          ]
        },
        {
          "output_type": "stream",
          "name": "stderr",
          "text": [
            "100%|██████████| 2.12G/2.12G [00:25<00:00, 87.8MB/s]\n"
          ]
        },
        {
          "output_type": "stream",
          "name": "stdout",
          "text": [
            "\n"
          ]
        }
      ],
      "source": [
        "!pip install opendatasets --quiet\n",
        "import opendatasets as od\n",
        "od.download(\"https://www.kaggle.com/datasets/mohammedalrajeh/quran-recitations-for-audio-classification\")"
      ]
    },
    {
      "cell_type": "code",
      "source": [
        "import torch\n",
        "from torch import nn\n",
        "from torch.utils.data import DataLoader,Dataset\n",
        "from torch.optim import Adam\n",
        "import librosa\n",
        "from sklearn.preprocessing import LabelEncoder\n",
        "import matplotlib.pyplot as plt\n",
        "import pandas as pd\n",
        "import numpy as np\n",
        "import os\n",
        "import time\n",
        "from skimage.transform import resize\n",
        "\n",
        "device = 'cuda' if torch.cuda.is_available() else 'cpu'"
      ],
      "metadata": {
        "id": "il0TjcEdDSbi"
      },
      "execution_count": 2,
      "outputs": []
    },
    {
      "cell_type": "code",
      "source": [
        "data_df = pd.read_csv('/content/quran-recitations-for-audio-classification/files_paths.csv')\n",
        "data_df['FilePath'] = '/content/quran-recitations-for-audio-classification/Dataset' + data_df['FilePath'].str[1:]\n",
        "data_df.head()"
      ],
      "metadata": {
        "colab": {
          "base_uri": "https://localhost:8080/",
          "height": 206
        },
        "id": "D7n4EE0rEeon",
        "outputId": "f83927c8-59e6-4a4f-bb7f-5086568d42ed"
      },
      "execution_count": 3,
      "outputs": [
        {
          "output_type": "execute_result",
          "data": {
            "text/plain": [
              "                                            FilePath               Class\n",
              "0  /content/quran-recitations-for-audio-classific...  Mohammed_Aluhaidan\n",
              "1  /content/quran-recitations-for-audio-classific...  Mohammed_Aluhaidan\n",
              "2  /content/quran-recitations-for-audio-classific...  Mohammed_Aluhaidan\n",
              "3  /content/quran-recitations-for-audio-classific...  Mohammed_Aluhaidan\n",
              "4  /content/quran-recitations-for-audio-classific...  Mohammed_Aluhaidan"
            ],
            "text/html": [
              "\n",
              "  <div id=\"df-d4cb5fe4-5916-4679-8248-c8b0ca8ca5e6\" class=\"colab-df-container\">\n",
              "    <div>\n",
              "<style scoped>\n",
              "    .dataframe tbody tr th:only-of-type {\n",
              "        vertical-align: middle;\n",
              "    }\n",
              "\n",
              "    .dataframe tbody tr th {\n",
              "        vertical-align: top;\n",
              "    }\n",
              "\n",
              "    .dataframe thead th {\n",
              "        text-align: right;\n",
              "    }\n",
              "</style>\n",
              "<table border=\"1\" class=\"dataframe\">\n",
              "  <thead>\n",
              "    <tr style=\"text-align: right;\">\n",
              "      <th></th>\n",
              "      <th>FilePath</th>\n",
              "      <th>Class</th>\n",
              "    </tr>\n",
              "  </thead>\n",
              "  <tbody>\n",
              "    <tr>\n",
              "      <th>0</th>\n",
              "      <td>/content/quran-recitations-for-audio-classific...</td>\n",
              "      <td>Mohammed_Aluhaidan</td>\n",
              "    </tr>\n",
              "    <tr>\n",
              "      <th>1</th>\n",
              "      <td>/content/quran-recitations-for-audio-classific...</td>\n",
              "      <td>Mohammed_Aluhaidan</td>\n",
              "    </tr>\n",
              "    <tr>\n",
              "      <th>2</th>\n",
              "      <td>/content/quran-recitations-for-audio-classific...</td>\n",
              "      <td>Mohammed_Aluhaidan</td>\n",
              "    </tr>\n",
              "    <tr>\n",
              "      <th>3</th>\n",
              "      <td>/content/quran-recitations-for-audio-classific...</td>\n",
              "      <td>Mohammed_Aluhaidan</td>\n",
              "    </tr>\n",
              "    <tr>\n",
              "      <th>4</th>\n",
              "      <td>/content/quran-recitations-for-audio-classific...</td>\n",
              "      <td>Mohammed_Aluhaidan</td>\n",
              "    </tr>\n",
              "  </tbody>\n",
              "</table>\n",
              "</div>\n",
              "    <div class=\"colab-df-buttons\">\n",
              "\n",
              "  <div class=\"colab-df-container\">\n",
              "    <button class=\"colab-df-convert\" onclick=\"convertToInteractive('df-d4cb5fe4-5916-4679-8248-c8b0ca8ca5e6')\"\n",
              "            title=\"Convert this dataframe to an interactive table.\"\n",
              "            style=\"display:none;\">\n",
              "\n",
              "  <svg xmlns=\"http://www.w3.org/2000/svg\" height=\"24px\" viewBox=\"0 -960 960 960\">\n",
              "    <path d=\"M120-120v-720h720v720H120Zm60-500h600v-160H180v160Zm220 220h160v-160H400v160Zm0 220h160v-160H400v160ZM180-400h160v-160H180v160Zm440 0h160v-160H620v160ZM180-180h160v-160H180v160Zm440 0h160v-160H620v160Z\"/>\n",
              "  </svg>\n",
              "    </button>\n",
              "\n",
              "  <style>\n",
              "    .colab-df-container {\n",
              "      display:flex;\n",
              "      gap: 12px;\n",
              "    }\n",
              "\n",
              "    .colab-df-convert {\n",
              "      background-color: #E8F0FE;\n",
              "      border: none;\n",
              "      border-radius: 50%;\n",
              "      cursor: pointer;\n",
              "      display: none;\n",
              "      fill: #1967D2;\n",
              "      height: 32px;\n",
              "      padding: 0 0 0 0;\n",
              "      width: 32px;\n",
              "    }\n",
              "\n",
              "    .colab-df-convert:hover {\n",
              "      background-color: #E2EBFA;\n",
              "      box-shadow: 0px 1px 2px rgba(60, 64, 67, 0.3), 0px 1px 3px 1px rgba(60, 64, 67, 0.15);\n",
              "      fill: #174EA6;\n",
              "    }\n",
              "\n",
              "    .colab-df-buttons div {\n",
              "      margin-bottom: 4px;\n",
              "    }\n",
              "\n",
              "    [theme=dark] .colab-df-convert {\n",
              "      background-color: #3B4455;\n",
              "      fill: #D2E3FC;\n",
              "    }\n",
              "\n",
              "    [theme=dark] .colab-df-convert:hover {\n",
              "      background-color: #434B5C;\n",
              "      box-shadow: 0px 1px 3px 1px rgba(0, 0, 0, 0.15);\n",
              "      filter: drop-shadow(0px 1px 2px rgba(0, 0, 0, 0.3));\n",
              "      fill: #FFFFFF;\n",
              "    }\n",
              "  </style>\n",
              "\n",
              "    <script>\n",
              "      const buttonEl =\n",
              "        document.querySelector('#df-d4cb5fe4-5916-4679-8248-c8b0ca8ca5e6 button.colab-df-convert');\n",
              "      buttonEl.style.display =\n",
              "        google.colab.kernel.accessAllowed ? 'block' : 'none';\n",
              "\n",
              "      async function convertToInteractive(key) {\n",
              "        const element = document.querySelector('#df-d4cb5fe4-5916-4679-8248-c8b0ca8ca5e6');\n",
              "        const dataTable =\n",
              "          await google.colab.kernel.invokeFunction('convertToInteractive',\n",
              "                                                    [key], {});\n",
              "        if (!dataTable) return;\n",
              "\n",
              "        const docLinkHtml = 'Like what you see? Visit the ' +\n",
              "          '<a target=\"_blank\" href=https://colab.research.google.com/notebooks/data_table.ipynb>data table notebook</a>'\n",
              "          + ' to learn more about interactive tables.';\n",
              "        element.innerHTML = '';\n",
              "        dataTable['output_type'] = 'display_data';\n",
              "        await google.colab.output.renderOutput(dataTable, element);\n",
              "        const docLink = document.createElement('div');\n",
              "        docLink.innerHTML = docLinkHtml;\n",
              "        element.appendChild(docLink);\n",
              "      }\n",
              "    </script>\n",
              "  </div>\n",
              "\n",
              "\n",
              "    <div id=\"df-b12df8dd-6f8b-4300-9306-c5e80553c412\">\n",
              "      <button class=\"colab-df-quickchart\" onclick=\"quickchart('df-b12df8dd-6f8b-4300-9306-c5e80553c412')\"\n",
              "                title=\"Suggest charts\"\n",
              "                style=\"display:none;\">\n",
              "\n",
              "<svg xmlns=\"http://www.w3.org/2000/svg\" height=\"24px\"viewBox=\"0 0 24 24\"\n",
              "     width=\"24px\">\n",
              "    <g>\n",
              "        <path d=\"M19 3H5c-1.1 0-2 .9-2 2v14c0 1.1.9 2 2 2h14c1.1 0 2-.9 2-2V5c0-1.1-.9-2-2-2zM9 17H7v-7h2v7zm4 0h-2V7h2v10zm4 0h-2v-4h2v4z\"/>\n",
              "    </g>\n",
              "</svg>\n",
              "      </button>\n",
              "\n",
              "<style>\n",
              "  .colab-df-quickchart {\n",
              "      --bg-color: #E8F0FE;\n",
              "      --fill-color: #1967D2;\n",
              "      --hover-bg-color: #E2EBFA;\n",
              "      --hover-fill-color: #174EA6;\n",
              "      --disabled-fill-color: #AAA;\n",
              "      --disabled-bg-color: #DDD;\n",
              "  }\n",
              "\n",
              "  [theme=dark] .colab-df-quickchart {\n",
              "      --bg-color: #3B4455;\n",
              "      --fill-color: #D2E3FC;\n",
              "      --hover-bg-color: #434B5C;\n",
              "      --hover-fill-color: #FFFFFF;\n",
              "      --disabled-bg-color: #3B4455;\n",
              "      --disabled-fill-color: #666;\n",
              "  }\n",
              "\n",
              "  .colab-df-quickchart {\n",
              "    background-color: var(--bg-color);\n",
              "    border: none;\n",
              "    border-radius: 50%;\n",
              "    cursor: pointer;\n",
              "    display: none;\n",
              "    fill: var(--fill-color);\n",
              "    height: 32px;\n",
              "    padding: 0;\n",
              "    width: 32px;\n",
              "  }\n",
              "\n",
              "  .colab-df-quickchart:hover {\n",
              "    background-color: var(--hover-bg-color);\n",
              "    box-shadow: 0 1px 2px rgba(60, 64, 67, 0.3), 0 1px 3px 1px rgba(60, 64, 67, 0.15);\n",
              "    fill: var(--button-hover-fill-color);\n",
              "  }\n",
              "\n",
              "  .colab-df-quickchart-complete:disabled,\n",
              "  .colab-df-quickchart-complete:disabled:hover {\n",
              "    background-color: var(--disabled-bg-color);\n",
              "    fill: var(--disabled-fill-color);\n",
              "    box-shadow: none;\n",
              "  }\n",
              "\n",
              "  .colab-df-spinner {\n",
              "    border: 2px solid var(--fill-color);\n",
              "    border-color: transparent;\n",
              "    border-bottom-color: var(--fill-color);\n",
              "    animation:\n",
              "      spin 1s steps(1) infinite;\n",
              "  }\n",
              "\n",
              "  @keyframes spin {\n",
              "    0% {\n",
              "      border-color: transparent;\n",
              "      border-bottom-color: var(--fill-color);\n",
              "      border-left-color: var(--fill-color);\n",
              "    }\n",
              "    20% {\n",
              "      border-color: transparent;\n",
              "      border-left-color: var(--fill-color);\n",
              "      border-top-color: var(--fill-color);\n",
              "    }\n",
              "    30% {\n",
              "      border-color: transparent;\n",
              "      border-left-color: var(--fill-color);\n",
              "      border-top-color: var(--fill-color);\n",
              "      border-right-color: var(--fill-color);\n",
              "    }\n",
              "    40% {\n",
              "      border-color: transparent;\n",
              "      border-right-color: var(--fill-color);\n",
              "      border-top-color: var(--fill-color);\n",
              "    }\n",
              "    60% {\n",
              "      border-color: transparent;\n",
              "      border-right-color: var(--fill-color);\n",
              "    }\n",
              "    80% {\n",
              "      border-color: transparent;\n",
              "      border-right-color: var(--fill-color);\n",
              "      border-bottom-color: var(--fill-color);\n",
              "    }\n",
              "    90% {\n",
              "      border-color: transparent;\n",
              "      border-bottom-color: var(--fill-color);\n",
              "    }\n",
              "  }\n",
              "</style>\n",
              "\n",
              "      <script>\n",
              "        async function quickchart(key) {\n",
              "          const quickchartButtonEl =\n",
              "            document.querySelector('#' + key + ' button');\n",
              "          quickchartButtonEl.disabled = true;  // To prevent multiple clicks.\n",
              "          quickchartButtonEl.classList.add('colab-df-spinner');\n",
              "          try {\n",
              "            const charts = await google.colab.kernel.invokeFunction(\n",
              "                'suggestCharts', [key], {});\n",
              "          } catch (error) {\n",
              "            console.error('Error during call to suggestCharts:', error);\n",
              "          }\n",
              "          quickchartButtonEl.classList.remove('colab-df-spinner');\n",
              "          quickchartButtonEl.classList.add('colab-df-quickchart-complete');\n",
              "        }\n",
              "        (() => {\n",
              "          let quickchartButtonEl =\n",
              "            document.querySelector('#df-b12df8dd-6f8b-4300-9306-c5e80553c412 button');\n",
              "          quickchartButtonEl.style.display =\n",
              "            google.colab.kernel.accessAllowed ? 'block' : 'none';\n",
              "        })();\n",
              "      </script>\n",
              "    </div>\n",
              "\n",
              "    </div>\n",
              "  </div>\n"
            ],
            "application/vnd.google.colaboratory.intrinsic+json": {
              "type": "dataframe",
              "variable_name": "data_df",
              "summary": "{\n  \"name\": \"data_df\",\n  \"rows\": 6687,\n  \"fields\": [\n    {\n      \"column\": \"FilePath\",\n      \"properties\": {\n        \"dtype\": \"string\",\n        \"num_unique_values\": 6687,\n        \"samples\": [\n          \"/content/quran-recitations-for-audio-classification/Dataset/Dataset/Mohammed_Aluhaidan/lohaidan_045.wav\",\n          \"/content/quran-recitations-for-audio-classification/Dataset/Dataset/AbdulBari_Althubaity/abdulbari_346.wav\",\n          \"/content/quran-recitations-for-audio-classification/Dataset/Dataset/Saad_Alghamdi/Saad_425.wav\"\n        ],\n        \"semantic_type\": \"\",\n        \"description\": \"\"\n      }\n    },\n    {\n      \"column\": \"Class\",\n      \"properties\": {\n        \"dtype\": \"category\",\n        \"num_unique_values\": 12,\n        \"samples\": [\n          \"Saad_Alghamdi\",\n          \"AbdulRahman_Alsudais\",\n          \"Mohammed_Aluhaidan\"\n        ],\n        \"semantic_type\": \"\",\n        \"description\": \"\"\n      }\n    }\n  ]\n}"
            }
          },
          "metadata": {},
          "execution_count": 3
        }
      ]
    },
    {
      "cell_type": "code",
      "source": [
        " data_df['FilePath'].iloc[2]"
      ],
      "metadata": {
        "colab": {
          "base_uri": "https://localhost:8080/",
          "height": 36
        },
        "id": "GL0A1VlWFAct",
        "outputId": "1f2f912b-b168-4fdb-c5fb-6feaf2f0e702"
      },
      "execution_count": 4,
      "outputs": [
        {
          "output_type": "execute_result",
          "data": {
            "text/plain": [
              "'/content/quran-recitations-for-audio-classification/Dataset/Dataset/Mohammed_Aluhaidan/lohaidan_401.wav'"
            ],
            "application/vnd.google.colaboratory.intrinsic+json": {
              "type": "string"
            }
          },
          "metadata": {},
          "execution_count": 4
        }
      ]
    },
    {
      "cell_type": "code",
      "source": [
        "print('Data shape:',data_df.shape)\n",
        "print('Class Distribution:',data_df['Class'].value_counts())"
      ],
      "metadata": {
        "colab": {
          "base_uri": "https://localhost:8080/"
        },
        "id": "CxmA_NabTWFi",
        "outputId": "c6d2039d-cbeb-4768-ed56-e6ee69395f4c"
      },
      "execution_count": 5,
      "outputs": [
        {
          "output_type": "stream",
          "name": "stdout",
          "text": [
            "Data shape: (6687, 2)\n",
            "Class Distribution: Class\n",
            "Saud_Alshuraim          696\n",
            "Saad_Alghamdi           688\n",
            "AbdulRahman_Alsudais    648\n",
            "Yasser_Aldossary        576\n",
            "Ali_Alhothaify          576\n",
            "Bander_Balilah          576\n",
            "Maher_Almuaiqly         576\n",
            "Abdullah_Albuaijan      504\n",
            "Mohammed_Ayoub          480\n",
            "Nasser_Alqutami         456\n",
            "AbdulBari_Althubaity    456\n",
            "Mohammed_Aluhaidan      455\n",
            "Name: count, dtype: int64\n"
          ]
        }
      ]
    },
    {
      "cell_type": "markdown",
      "source": [
        "the dataset is not completely balaced but we can say it is kind of ok"
      ],
      "metadata": {
        "id": "XFdpyq9VT3d2"
      }
    },
    {
      "cell_type": "code",
      "source": [
        "plt.figure(figsize=(10,10))\n",
        "plt.pie(data_df['Class'].value_counts(), labels=data_df['Class'].value_counts().index,autopct='%1.1f%%')\n",
        "plt.title('Class Distribution')\n",
        "plt.show()"
      ],
      "metadata": {
        "colab": {
          "base_uri": "https://localhost:8080/",
          "height": 829
        },
        "id": "oJN9DS3HT8nl",
        "outputId": "11421f6d-69e0-4b07-fb9d-5762607d7939"
      },
      "execution_count": 6,
      "outputs": [
        {
          "output_type": "display_data",
          "data": {
            "text/plain": [
              "<Figure size 1000x1000 with 1 Axes>"
            ],
            "image/png": "[encoded data removed]"
          },
          "metadata": {}
        }
      ]
    },
    {
      "cell_type": "markdown",
      "source": [
        "The data distribution is not 100% balanced but it is some how accepatable\n",
        "Training: 70%,\n",
        "Validation: 15%,\n",
        "Testing: 15%"
      ],
      "metadata": {
        "id": "JYGs4_VRUrsB"
      }
    },
    {
      "cell_type": "code",
      "source": [
        "train = data_df.sample(frac=0.7,random_state=7)\n",
        "test = data_df.drop(train.index)\n",
        "\n",
        "val = test.sample(frac = 0.5,random_state = 7)\n",
        "test = test.drop(val.index)\n",
        "\n",
        "print('Train shape:',train.shape)\n",
        "print('Validation shape:',val.shape)\n",
        "print('Test shape:',test.shape)"
      ],
      "metadata": {
        "colab": {
          "base_uri": "https://localhost:8080/"
        },
        "id": "uFvTRP5xUeYf",
        "outputId": "9d56d680-facb-441c-8027-26b1d3d05590"
      },
      "execution_count": 7,
      "outputs": [
        {
          "output_type": "stream",
          "name": "stdout",
          "text": [
            "Train shape: (4681, 2)\n",
            "Validation shape: (1003, 2)\n",
            "Test shape: (1003, 2)\n"
          ]
        }
      ]
    },
    {
      "cell_type": "code",
      "source": [
        "class CustomAudioDataset(Dataset):\n",
        "  def __init__(self, dataframe):\n",
        "    self.dataframe = dataframe\n",
        "    # Encode labels\n",
        "    le = LabelEncoder()\n",
        "    self.labels = torch.Tensor(le.fit_transform(dataframe[\"Class\"])).type(torch.LongTensor).to(device)\n",
        "    self.audios = [torch.Tensor(self.get_spectrogram(path)).type(torch.FloatTensor) for path in dataframe['FilePath']]\n",
        "\n",
        "  def __len__(self):\n",
        "    return self.dataframe.shape[0]\n",
        "\n",
        "  def __getitem__(self, idx):\n",
        "    img_path = self.dataframe.iloc[idx, 0]\n",
        "    label = torch.Tensor(self.labels[idx]).to(device)\n",
        "    audio = (self.audios[idx]).unsqueeze(0).to(device)\n",
        "    return audio, label\n",
        "\n",
        "  def get_spectrogram(self, file_path):\n",
        "    sr = 22050 # Set the sample rate of the audio file\n",
        "    duration = 5 # Set the duration of the audio files\n",
        "\n",
        "    # Set the size of the spectrogram images\n",
        "    img_height = 128\n",
        "    img_width = 256\n",
        "\n",
        "    # Load the audio file\n",
        "    signal, sr = librosa.load(file_path, sr=22050, duration=duration)\n",
        "\n",
        "    # Compute the spectrogram\n",
        "    spec = librosa.feature.melspectrogram(y=signal, sr=sr, n_fft=2048, hop_length=512, n_mels=128)\n",
        "\n",
        "    # Convert the spectrogram to dB scale\n",
        "    spec_db = librosa.power_to_db(spec, ref=np.max)\n",
        "\n",
        "    # Resize the spectrogram to the desired shape\n",
        "    spec_resized = librosa.util.fix_length(spec_db, size = duration * sr // 512 + 1)\n",
        "    spec_resized = resize(spec_resized, (img_height, img_width), anti_aliasing=True)\n",
        "    return spec_resized"
      ],
      "metadata": {
        "id": "upEdzhp6VmnM"
      },
      "execution_count": 8,
      "outputs": []
    },
    {
      "cell_type": "code",
      "source": [
        "train_dataset = CustomAudioDataset(dataframe=train)\n",
        "val_dataset = CustomAudioDataset(dataframe=val)\n",
        "test_dataset = CustomAudioDataset(dataframe=test)"
      ],
      "metadata": {
        "id": "JeHDnN2WarDX"
      },
      "execution_count": 9,
      "outputs": []
    },
    {
      "cell_type": "code",
      "source": [
        "import os\n",
        "\n",
        "print(os.path.exists(\"/content/quran-recitations-for-audio-classification/Dataset/Dataset/Mohammed_Ayoub/mAyoub_193.wav\"))\n"
      ],
      "metadata": {
        "colab": {
          "base_uri": "https://localhost:8080/"
        },
        "id": "RZz9nN_vcejs",
        "outputId": "6d706105-934f-442f-8b38-c525b86dec0f"
      },
      "execution_count": 10,
      "outputs": [
        {
          "output_type": "stream",
          "name": "stdout",
          "text": [
            "True\n"
          ]
        }
      ]
    },
    {
      "cell_type": "code",
      "source": [
        "LR = 1e-4\n",
        "BATCH_SIZE = 16\n",
        "EPOCHS = 25"
      ],
      "metadata": {
        "id": "r4a7LFj8eNl4"
      },
      "execution_count": 11,
      "outputs": []
    },
    {
      "cell_type": "code",
      "source": [
        "train_loader = DataLoader(train_dataset, batch_size=BATCH_SIZE, shuffle=True)\n",
        "val_loader = DataLoader(val_dataset, batch_size=BATCH_SIZE, shuffle=True)\n",
        "test_loader = DataLoader(test_dataset, batch_size=BATCH_SIZE, shuffle=True)"
      ],
      "metadata": {
        "id": "wyLhLhkAgR-c"
      },
      "execution_count": 12,
      "outputs": []
    },
    {
      "cell_type": "code",
      "source": [
        "\n",
        "class Net(nn.Module):\n",
        "  def __init__(self):\n",
        "    super().__init__()\n",
        "\n",
        "    self.conv1 = nn.Conv2d(1, 16, kernel_size = 3, padding = 1) # First Convolution layer\n",
        "    self.conv2 = nn.Conv2d(16, 32, kernel_size = 3, stride = 1, padding = 1) # Second Convolution layer\n",
        "    self.conv3 = nn.Conv2d(32, 64, kernel_size = 3, stride = 1, padding = 1) # Third Convolution layer\n",
        "    self.pooling = nn.MaxPool2d(2,2) # The pooling layer, we will be using the same layer after each conv2d.\n",
        "    self.relu = nn.ReLU() # ReLU Activation function\n",
        "\n",
        "    self.flatten = nn.Flatten() # Flatten and vectorize the output feature maps that somes from the final convolution layer.\n",
        "    self.linear1 = nn.Linear((64 * 16 * 32), 4096) # Traditional Dense (Linear)\n",
        "    self.linear2 = nn.Linear(4096, 1024) # Traditional Dense (Linear)\n",
        "    self.linear4 = nn.Linear(1024, 512) # Traditional Dense (Linear)\n",
        "    self.output = nn.Linear(512, len(data_df['Class'].unique())) # Output Linear Layer\n",
        "\n",
        "    self.dropout = nn.Dropout(0.5)\n",
        "\n",
        "  def forward(self, x):\n",
        "    x = self.conv1(x) # -> Outputs: (16, (128, 256))\n",
        "    x = self.pooling(x)# -> Outputs: (16, (64, 128))\n",
        "    x = self.relu(x)\n",
        "    x = self.dropout(x)\n",
        "    x = self.conv2(x) # -> Outputs: (32, (64, 128))\n",
        "    x = self.pooling(x) # -> Outputs: (32, (32, 64))\n",
        "    x = self.relu(x)\n",
        "    x = self.dropout(x)\n",
        "    x = self.conv3(x) # -> Outputs: (64, (32, 64))\n",
        "    x = self.pooling(x) # -> Outputs: (64, (16, 32))\n",
        "    x = self.relu(x)\n",
        "    x = self.dropout(x)\n",
        "    x = x.view(x.size(0), -1)\n",
        "\n",
        "    x = self.flatten(x)\n",
        "\n",
        "    x = self.linear1(x)\n",
        "    x = self.dropout(x)\n",
        "\n",
        "    x = self.linear2(x)\n",
        "    x = self.dropout(x)\n",
        "\n",
        "\n",
        "    x = self.linear4(x)\n",
        "    x = self.dropout(x)\n",
        "\n",
        "    x = self.output(x)\n",
        "\n",
        "    return x\n",
        "\n",
        "model = Net().to(device) # Create an instance of the model and move it to the GPU Device\n",
        "\n",
        "\n",
        "print(model)"
      ],
      "metadata": {
        "colab": {
          "base_uri": "https://localhost:8080/"
        },
        "id": "PTwgY_bTgowx",
        "outputId": "34daeb38-63f7-40bf-9f5b-8f70835c5d5a"
      },
      "execution_count": 13,
      "outputs": [
        {
          "output_type": "stream",
          "name": "stdout",
          "text": [
            "Net(\n",
            "  (conv1): Conv2d(1, 16, kernel_size=(3, 3), stride=(1, 1), padding=(1, 1))\n",
            "  (conv2): Conv2d(16, 32, kernel_size=(3, 3), stride=(1, 1), padding=(1, 1))\n",
            "  (conv3): Conv2d(32, 64, kernel_size=(3, 3), stride=(1, 1), padding=(1, 1))\n",
            "  (pooling): MaxPool2d(kernel_size=2, stride=2, padding=0, dilation=1, ceil_mode=False)\n",
            "  (relu): ReLU()\n",
            "  (flatten): Flatten(start_dim=1, end_dim=-1)\n",
            "  (linear1): Linear(in_features=32768, out_features=4096, bias=True)\n",
            "  (linear2): Linear(in_features=4096, out_features=1024, bias=True)\n",
            "  (linear4): Linear(in_features=1024, out_features=512, bias=True)\n",
            "  (output): Linear(in_features=512, out_features=12, bias=True)\n",
            "  (dropout): Dropout(p=0.5, inplace=False)\n",
            ")\n"
          ]
        }
      ]
    },
    {
      "cell_type": "code",
      "source": [
        "from torchsummary import summary\n",
        "summary(model, (1, 128, 256))"
      ],
      "metadata": {
        "colab": {
          "base_uri": "https://localhost:8080/"
        },
        "id": "T0VmdXaclej4",
        "outputId": "7a625550-7ae5-43da-eedc-934614069dc9"
      },
      "execution_count": 14,
      "outputs": [
        {
          "output_type": "stream",
          "name": "stdout",
          "text": [
            "----------------------------------------------------------------\n",
            "        Layer (type)               Output Shape         Param #\n",
            "================================================================\n",
            "            Conv2d-1         [-1, 16, 128, 256]             160\n",
            "         MaxPool2d-2          [-1, 16, 64, 128]               0\n",
            "              ReLU-3          [-1, 16, 64, 128]               0\n",
            "           Dropout-4          [-1, 16, 64, 128]               0\n",
            "            Conv2d-5          [-1, 32, 64, 128]           4,640\n",
            "         MaxPool2d-6           [-1, 32, 32, 64]               0\n",
            "              ReLU-7           [-1, 32, 32, 64]               0\n",
            "           Dropout-8           [-1, 32, 32, 64]               0\n",
            "            Conv2d-9           [-1, 64, 32, 64]          18,496\n",
            "        MaxPool2d-10           [-1, 64, 16, 32]               0\n",
            "             ReLU-11           [-1, 64, 16, 32]               0\n",
            "          Dropout-12           [-1, 64, 16, 32]               0\n",
            "          Flatten-13                [-1, 32768]               0\n",
            "           Linear-14                 [-1, 4096]     134,221,824\n",
            "          Dropout-15                 [-1, 4096]               0\n",
            "           Linear-16                 [-1, 1024]       4,195,328\n",
            "          Dropout-17                 [-1, 1024]               0\n",
            "           Linear-18                  [-1, 512]         524,800\n",
            "          Dropout-19                  [-1, 512]               0\n",
            "           Linear-20                   [-1, 12]           6,156\n",
            "================================================================\n",
            "Total params: 138,971,404\n",
            "Trainable params: 138,971,404\n",
            "Non-trainable params: 0\n",
            "----------------------------------------------------------------\n",
            "Input size (MB): 0.12\n",
            "Forward/backward pass size (MB): 12.59\n",
            "Params size (MB): 530.13\n",
            "Estimated Total Size (MB): 542.84\n",
            "----------------------------------------------------------------\n"
          ]
        }
      ]
    },
    {
      "cell_type": "code",
      "source": [
        "criterion = nn.CrossEntropyLoss()\n",
        "optimizer = Adam(model.parameters(), lr=LR)"
      ],
      "metadata": {
        "id": "UxIDGadols_d"
      },
      "execution_count": 15,
      "outputs": []
    },
    {
      "cell_type": "code",
      "source": [
        "total_loss_train_plot = [] # Empty list to be filled with train loss after each epoch\n",
        "total_loss_validation_plot = [] # Empty list to be filled with validation loss after each epoch\n",
        "total_acc_train_plot = [] # Empty list to be filled with train accuracy after each epoch\n",
        "total_acc_validation_plot = [] # Empty list to be filled with validation accuracy after each epoch\n",
        "\n",
        "\n",
        "for epoch in range(EPOCHS):\n",
        "  start_time = time.time() # We use this to calculate the time of each epoch, it starts a counter once called\n",
        "  total_acc_train = 0\n",
        "  total_loss_train = 0\n",
        "  total_loss_val = 0\n",
        "  total_acc_val = 0\n",
        "\n",
        "  for inputs, labels in train_loader:\n",
        "    outputs = model(inputs)\n",
        "    train_loss = criterion(outputs, labels)\n",
        "    total_loss_train += train_loss.item()\n",
        "    train_loss.backward()\n",
        "\n",
        "    train_acc = (torch.argmax(outputs, axis = 1) == labels).sum().item()\n",
        "    total_acc_train += train_acc\n",
        "    optimizer.step()\n",
        "    optimizer.zero_grad()\n",
        "\n",
        "  with torch.no_grad():\n",
        "    for inputs, labels in val_loader:\n",
        "      outputs = model(inputs)\n",
        "      val_loss = criterion(outputs, labels)\n",
        "      total_loss_val += val_loss.item()\n",
        "\n",
        "      val_acc = (torch.argmax(outputs, axis = 1) == labels).sum().item()\n",
        "      total_acc_val += val_acc\n",
        "\n",
        "  total_loss_train_plot.append(round(total_loss_train/1000, 4))\n",
        "  total_loss_validation_plot.append(round(total_loss_val/1000, 4))\n",
        "  total_acc_train_plot.append(round(total_acc_train/(train_dataset.__len__())*100, 4))\n",
        "  total_acc_validation_plot.append(round(total_acc_val/(val_dataset.__len__())*100, 4))\n",
        "  epoch_string = f\"\"\"\n",
        "                  Epoch: {epoch+1}/{EPOCHS},\n",
        "                  Train Loss: {round(total_loss_train/100, 4)},\n",
        "                  Train Accuracy: {round((total_acc_train/train_dataset.__len__() * 100), 4)},\n",
        "                  Validation Loss: {round(total_loss_val/100, 4)},\n",
        "                  Validation Accuracy: {round((total_acc_val/val_dataset.__len__() * 100), 4)}\n",
        "                  \"\"\"\n",
        "  print(epoch_string)\n",
        "  print(\"=\"*30)\n",
        ""
      ],
      "metadata": {
        "colab": {
          "base_uri": "https://localhost:8080/"
        },
        "collapsed": true,
        "id": "hGLATgJOmINw",
        "outputId": "cf4e519b-83c2-4e74-9a9f-8bf90f662f42"
      },
      "execution_count": 16,
      "outputs": [
        {
          "output_type": "stream",
          "name": "stdout",
          "text": [
            "\n",
            "                  Epoch: 1/25, \n",
            "                  Train Loss: 23.0467, \n",
            "                  Train Accuracy: 11.4078, \n",
            "                  Validation Loss: 1.5619, \n",
            "                  Validation Accuracy: 11.5653\n",
            "                  \n",
            "==============================\n",
            "\n",
            "                  Epoch: 2/25, \n",
            "                  Train Loss: 7.1278, \n",
            "                  Train Accuracy: 12.0914, \n",
            "                  Validation Loss: 1.5237, \n",
            "                  Validation Accuracy: 13.5593\n",
            "                  \n",
            "==============================\n",
            "\n",
            "                  Epoch: 3/25, \n",
            "                  Train Loss: 7.0113, \n",
            "                  Train Accuracy: 14.3986, \n",
            "                  Validation Loss: 1.4966, \n",
            "                  Validation Accuracy: 17.1486\n",
            "                  \n",
            "==============================\n",
            "\n",
            "                  Epoch: 4/25, \n",
            "                  Train Loss: 6.6475, \n",
            "                  Train Accuracy: 20.8502, \n",
            "                  Validation Loss: 1.3664, \n",
            "                  Validation Accuracy: 25.6231\n",
            "                  \n",
            "==============================\n",
            "\n",
            "                  Epoch: 5/25, \n",
            "                  Train Loss: 5.6764, \n",
            "                  Train Accuracy: 34.608, \n",
            "                  Validation Loss: 1.075, \n",
            "                  Validation Accuracy: 42.8714\n",
            "                  \n",
            "==============================\n",
            "\n",
            "                  Epoch: 6/25, \n",
            "                  Train Loss: 4.7345, \n",
            "                  Train Accuracy: 45.8022, \n",
            "                  Validation Loss: 0.8521, \n",
            "                  Validation Accuracy: 54.1376\n",
            "                  \n",
            "==============================\n",
            "\n",
            "                  Epoch: 7/25, \n",
            "                  Train Loss: 3.8919, \n",
            "                  Train Accuracy: 55.1805, \n",
            "                  Validation Loss: 0.7804, \n",
            "                  Validation Accuracy: 58.325\n",
            "                  \n",
            "==============================\n",
            "\n",
            "                  Epoch: 8/25, \n",
            "                  Train Loss: 3.3001, \n",
            "                  Train Accuracy: 62.3798, \n",
            "                  Validation Loss: 0.682, \n",
            "                  Validation Accuracy: 63.2104\n",
            "                  \n",
            "==============================\n",
            "\n",
            "                  Epoch: 9/25, \n",
            "                  Train Loss: 2.9664, \n",
            "                  Train Accuracy: 65.6056, \n",
            "                  Validation Loss: 0.5777, \n",
            "                  Validation Accuracy: 68.6939\n",
            "                  \n",
            "==============================\n",
            "\n",
            "                  Epoch: 10/25, \n",
            "                  Train Loss: 2.5825, \n",
            "                  Train Accuracy: 71.0746, \n",
            "                  Validation Loss: 0.5695, \n",
            "                  Validation Accuracy: 69.8903\n",
            "                  \n",
            "==============================\n",
            "\n",
            "                  Epoch: 11/25, \n",
            "                  Train Loss: 2.3758, \n",
            "                  Train Accuracy: 73.104, \n",
            "                  Validation Loss: 0.5309, \n",
            "                  Validation Accuracy: 73.0808\n",
            "                  \n",
            "==============================\n",
            "\n",
            "                  Epoch: 12/25, \n",
            "                  Train Loss: 2.3144, \n",
            "                  Train Accuracy: 74.3645, \n",
            "                  Validation Loss: 0.4889, \n",
            "                  Validation Accuracy: 76.8694\n",
            "                  \n",
            "==============================\n",
            "\n",
            "                  Epoch: 13/25, \n",
            "                  Train Loss: 2.0909, \n",
            "                  Train Accuracy: 75.988, \n",
            "                  Validation Loss: 0.4607, \n",
            "                  Validation Accuracy: 76.8694\n",
            "                  \n",
            "==============================\n",
            "\n",
            "                  Epoch: 14/25, \n",
            "                  Train Loss: 1.946, \n",
            "                  Train Accuracy: 77.9107, \n",
            "                  Validation Loss: 0.4091, \n",
            "                  Validation Accuracy: 79.8604\n",
            "                  \n",
            "==============================\n",
            "\n",
            "                  Epoch: 15/25, \n",
            "                  Train Loss: 1.7895, \n",
            "                  Train Accuracy: 79.812, \n",
            "                  Validation Loss: 0.4017, \n",
            "                  Validation Accuracy: 80.2592\n",
            "                  \n",
            "==============================\n",
            "\n",
            "                  Epoch: 16/25, \n",
            "                  Train Loss: 1.6264, \n",
            "                  Train Accuracy: 82.0765, \n",
            "                  Validation Loss: 0.3567, \n",
            "                  Validation Accuracy: 81.2562\n",
            "                  \n",
            "==============================\n",
            "\n",
            "                  Epoch: 17/25, \n",
            "                  Train Loss: 1.5334, \n",
            "                  Train Accuracy: 83.1446, \n",
            "                  Validation Loss: 0.3438, \n",
            "                  Validation Accuracy: 82.9511\n",
            "                  \n",
            "==============================\n",
            "\n",
            "                  Epoch: 18/25, \n",
            "                  Train Loss: 1.3859, \n",
            "                  Train Accuracy: 84.8537, \n",
            "                  Validation Loss: 0.3256, \n",
            "                  Validation Accuracy: 85.6431\n",
            "                  \n",
            "==============================\n",
            "\n",
            "                  Epoch: 19/25, \n",
            "                  Train Loss: 1.2291, \n",
            "                  Train Accuracy: 85.9218, \n",
            "                  Validation Loss: 0.276, \n",
            "                  Validation Accuracy: 86.6401\n",
            "                  \n",
            "==============================\n",
            "\n",
            "                  Epoch: 20/25, \n",
            "                  Train Loss: 1.1531, \n",
            "                  Train Accuracy: 86.9472, \n",
            "                  Validation Loss: 0.2562, \n",
            "                  Validation Accuracy: 86.6401\n",
            "                  \n",
            "==============================\n",
            "\n",
            "                  Epoch: 21/25, \n",
            "                  Train Loss: 1.053, \n",
            "                  Train Accuracy: 88.7417, \n",
            "                  Validation Loss: 0.2469, \n",
            "                  Validation Accuracy: 87.5374\n",
            "                  \n",
            "==============================\n",
            "\n",
            "                  Epoch: 22/25, \n",
            "                  Train Loss: 1.0652, \n",
            "                  Train Accuracy: 88.464, \n",
            "                  Validation Loss: 0.2801, \n",
            "                  Validation Accuracy: 87.7368\n",
            "                  \n",
            "==============================\n",
            "\n",
            "                  Epoch: 23/25, \n",
            "                  Train Loss: 1.0128, \n",
            "                  Train Accuracy: 89.0835, \n",
            "                  Validation Loss: 0.2314, \n",
            "                  Validation Accuracy: 88.335\n",
            "                  \n",
            "==============================\n",
            "\n",
            "                  Epoch: 24/25, \n",
            "                  Train Loss: 0.8899, \n",
            "                  Train Accuracy: 90.7285, \n",
            "                  Validation Loss: 0.2621, \n",
            "                  Validation Accuracy: 88.0359\n",
            "                  \n",
            "==============================\n",
            "\n",
            "                  Epoch: 25/25, \n",
            "                  Train Loss: 0.7895, \n",
            "                  Train Accuracy: 91.2412, \n",
            "                  Validation Loss: 0.2983, \n",
            "                  Validation Accuracy: 87.2383\n",
            "                  \n",
            "==============================\n"
          ]
        }
      ]
    },
    {
      "cell_type": "code",
      "source": [
        "with torch.no_grad():\n",
        "  total_loss_test = 0\n",
        "  total_acc_test = 0\n",
        "  for indx, (input, labels) in enumerate(test_loader):\n",
        "\n",
        "    prediction = model(input)\n",
        "\n",
        "    acc = (torch.argmax(prediction, axis = 1) == labels).sum().item()\n",
        "    total_acc_test += acc\n",
        "\n",
        "print(f\"Accuracy Score is: {round((total_acc_test/test_dataset.__len__())*100, 2)}%\")"
      ],
      "metadata": {
        "colab": {
          "base_uri": "https://localhost:8080/"
        },
        "id": "s_XGt_3Yq74z",
        "outputId": "05deca74-cb79-4b65-ee76-5673019b9e68"
      },
      "execution_count": 17,
      "outputs": [
        {
          "output_type": "stream",
          "name": "stdout",
          "text": [
            "Accuracy Score is: 88.43%\n"
          ]
        }
      ]
    },
    {
      "cell_type": "code",
      "source": [
        "fig, axs = plt.subplots(nrows=1, ncols=2, figsize=(15, 5))\n",
        "\n",
        "axs[0].plot(total_loss_train_plot, label='Training Loss')\n",
        "axs[0].plot(total_loss_validation_plot, label='Validation Loss')\n",
        "axs[0].set_title('Training and Validation Loss over Epochs')\n",
        "axs[0].set_xlabel('Epochs')\n",
        "axs[0].set_ylabel('Loss')\n",
        "axs[1].set_ylim([0, 2])\n",
        "axs[0].legend()\n",
        "\n",
        "axs[1].plot(total_acc_train_plot, label='Training Accuracy')\n",
        "axs[1].plot(total_acc_validation_plot, label='Validation Accuracy')\n",
        "axs[1].set_title('Training and Validation Accuracy over Epochs')\n",
        "axs[1].set_xlabel('Epochs')\n",
        "axs[1].set_ylabel('Accuracy')\n",
        "axs[1].set_ylim([0, 100])\n",
        "axs[1].legend()\n",
        "\n",
        "plt.tight_layout()\n",
        "\n",
        "plt.show()"
      ],
      "metadata": {
        "colab": {
          "base_uri": "https://localhost:8080/",
          "height": 482
        },
        "id": "PYriHcN1rSQh",
        "outputId": "892e20ff-3215-48fd-97cc-48b38cd8dbfd"
      },
      "execution_count": 18,
      "outputs": [
        {
          "output_type": "display_data",
          "data": {
            "text/plain": [
              "<Figure size 1500x500 with 2 Axes>"
            ],
            "image/png": "[encoded data removed]"
          },
          "metadata": {}
        }
      ]
    },
    {
      "cell_type": "markdown",
      "source": [
        "🔍 Left Plot: Training and Validation Loss\n",
        "Training loss (blue): Decreases steadily — this is expected and good.\n",
        "\n",
        "Validation loss (orange): Starts low and decreases a little, but then flattens out and even slightly increases toward the end.\n",
        "\n",
        "➡️ This is a classic sign of overfitting:\n",
        "\n",
        "The model keeps improving on the training data\n",
        "\n",
        "But stops improving (or worsens) on validation data\n",
        "\n",
        "🔍 Right Plot: Training and Validation Accuracy\n",
        "Both training and validation accuracy increase over time — that’s good.\n",
        "\n",
        "However, in the last few epochs:\n",
        "\n",
        "Training accuracy continues to increase\n",
        "\n",
        "Validation accuracy plateaus or dips slightly\n",
        "\n",
        "➡️ This indicates the model is memorizing the training data more than generalizing to unseen data.\n",
        "\n",
        "📌 Conclusion:\n",
        "✅ Mild overfitting is occurring.\n",
        "This is not drastic, but the validation metrics no longer improve — or slightly worsen — as training continues"
      ],
      "metadata": {
        "id": "kD163UTlsFX-"
      }
    },
    {
      "cell_type": "code",
      "source": [],
      "metadata": {
        "id": "sBaNNnLWsGvp"
      },
      "execution_count": null,
      "outputs": []
    }
  ]
}